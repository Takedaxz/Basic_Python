{
 "cells": [
  {
   "cell_type": "markdown",
   "metadata": {
    "id": "Zu6zK8_-cYt6"
   },
   "source": [
    "บทเรียนวิชาที่ 1 พื้นฐาน Python"
   ]
  },
  {
   "cell_type": "code",
   "execution_count": 2,
   "metadata": {
    "colab": {
     "base_uri": "https://localhost:8080/"
    },
    "id": "c9_Ip0wycdhN",
    "outputId": "78be7587-56f6-4df3-f5f0-55c2b663be36"
   },
   "outputs": [
    {
     "name": "stdout",
     "output_type": "stream",
     "text": [
      "Hello\n"
     ]
    }
   ],
   "source": [
    "print(\"Hello\")"
   ]
  },
  {
   "cell_type": "code",
   "execution_count": 4,
   "metadata": {
    "colab": {
     "base_uri": "https://localhost:8080/"
    },
    "id": "h4OnDOhVrUdg",
    "outputId": "8850b442-3f6e-4fbe-c909-8970554a9db2"
   },
   "outputs": [
    {
     "name": "stdout",
     "output_type": "stream",
     "text": [
      "Hello\n",
      "Hello\n"
     ]
    }
   ],
   "source": [
    "# การเขียนคอมเมนต์\n",
    "print(\"Hello\")\n",
    "print('Hello')"
   ]
  },
  {
   "cell_type": "code",
   "execution_count": 5,
   "metadata": {
    "colab": {
     "base_uri": "https://localhost:8080/"
    },
    "id": "j3Tpn8FErtMY",
    "outputId": "4dda6805-be18-4683-9811-8ac835695a18"
   },
   "outputs": [
    {
     "name": "stdout",
     "output_type": "stream",
     "text": [
      "Hello Aj. Punnarai\n"
     ]
    }
   ],
   "source": [
    "name = \"Aj. Punnarai\"\n",
    "print(\"Hello\",name)"
   ]
  },
  {
   "cell_type": "code",
   "execution_count": 7,
   "metadata": {
    "colab": {
     "base_uri": "https://localhost:8080/"
    },
    "id": "TUi2S_kAsAmj",
    "outputId": "003c8898-80d0-42c9-bc17-4c29bd46bdcc"
   },
   "outputs": [
    {
     "name": "stdout",
     "output_type": "stream",
     "text": [
      "<class 'str'>\n",
      "<class 'int'>\n",
      "<class 'float'>\n"
     ]
    }
   ],
   "source": [
    "name = \"Aj. Punnarai\"\n",
    "a = 10\n",
    "b = 10.0\n",
    "print(type(name))\n",
    "print(type(a))\n",
    "print(type(b))"
   ]
  },
  {
   "cell_type": "code",
   "execution_count": 10,
   "metadata": {
    "colab": {
     "base_uri": "https://localhost:8080/"
    },
    "id": "TJ7m6ukpsenB",
    "outputId": "4403cf0b-267b-4294-bce3-48bdf6a6b142"
   },
   "outputs": [
    {
     "name": "stdout",
     "output_type": "stream",
     "text": [
      "<class 'str'>\n",
      "<class 'float'>\n",
      "<class 'int'>\n"
     ]
    }
   ],
   "source": [
    "# Casting\n",
    "x = str(3)\n",
    "print(type(x))\n",
    "y = float(a)\n",
    "print(type(y))\n",
    "z = int(b)\n",
    "print(type(z))"
   ]
  },
  {
   "cell_type": "code",
   "execution_count": 12,
   "metadata": {
    "colab": {
     "base_uri": "https://localhost:8080/"
    },
    "id": "GIEx0Ih2s7Wm",
    "outputId": "90c3aea0-6d80-466d-cf37-64f55adb1734"
   },
   "outputs": [
    {
     "name": "stdout",
     "output_type": "stream",
     "text": [
      "Toyota\n",
      "2021\n"
     ]
    }
   ],
   "source": [
    "# Dictionary\n",
    "# key : value\n",
    "thisdict = {\n",
    "    \"brand\": \"Toyota\",\n",
    "    \"year\": 2021\n",
    "}\n",
    "print(thisdict[\"brand\"])\n",
    "print(thisdict[\"year\"])"
   ]
  },
  {
   "cell_type": "code",
   "execution_count": 15,
   "metadata": {
    "colab": {
     "base_uri": "https://localhost:8080/"
    },
    "id": "DfW20NfutdTZ",
    "outputId": "a1fab6e1-bd21-4925-d1fb-c246e3c567b2"
   },
   "outputs": [
    {
     "name": "stdout",
     "output_type": "stream",
     "text": [
      "a is greater than b\n"
     ]
    }
   ],
   "source": [
    "# Condition\n",
    "a = 200\n",
    "b = 33\n",
    "if b > a:\n",
    "  print(\"b is greater than a\")\n",
    "elif a > b:\n",
    "  print(\"a is greater than b\")\n",
    "else:\n",
    "  print(\"a and b are equal\")"
   ]
  },
  {
   "cell_type": "code",
   "execution_count": 1,
   "metadata": {
    "colab": {
     "base_uri": "https://localhost:8080/"
    },
    "id": "aOen6Kk6uF9U",
    "outputId": "6c2e27e4-6a67-4b92-975b-57eafcf07e23"
   },
   "outputs": [
    {
     "name": "stdout",
     "output_type": "stream",
     "text": [
      "3\n",
      "4\n",
      "5\n",
      "6\n",
      "7\n",
      "8\n"
     ]
    }
   ],
   "source": [
    "# while loop\n",
    "i = 3\n",
    "while i <= 8:\n",
    "  print(i)\n",
    "  i += 1"
   ]
  },
  {
   "cell_type": "code",
   "execution_count": 17,
   "metadata": {
    "colab": {
     "base_uri": "https://localhost:8080/"
    },
    "id": "E9fqA14qun88",
    "outputId": "6b84de4b-8896-4e79-eed6-b900a6f40667"
   },
   "outputs": [
    {
     "name": "stdout",
     "output_type": "stream",
     "text": [
      "apple\n",
      "banana\n",
      "mango\n",
      "pineapple\n"
     ]
    }
   ],
   "source": [
    "# for loop\n",
    "fruits = [\"apple\", \"banana\", \"mango\", \"pineapple\"]\n",
    "for x in fruits:\n",
    "  print(x)"
   ]
  },
  {
   "cell_type": "code",
   "execution_count": 20,
   "metadata": {
    "colab": {
     "base_uri": "https://localhost:8080/"
    },
    "id": "VwZ4eN3BvL-M",
    "outputId": "9db46007-b292-4001-9598-e11308aed345",
    "scrolled": true
   },
   "outputs": [
    {
     "name": "stdout",
     "output_type": "stream",
     "text": [
      "hello from a function\n"
     ]
    }
   ],
   "source": [
    "# function\n",
    "def my_function():\n",
    "  print(\"hello from a function\")\n",
    "\n",
    "my_function()"
   ]
  },
  {
   "cell_type": "code",
   "execution_count": 24,
   "metadata": {
    "colab": {
     "base_uri": "https://localhost:8080/"
    },
    "id": "VqRNKcFLv0_E",
    "outputId": "a77a511d-24b3-43d6-bd52-c66d113662cf"
   },
   "outputs": [
    {
     "name": "stdout",
     "output_type": "stream",
     "text": [
      "Manee\n",
      "15\n",
      "I can eat now.\n"
     ]
    }
   ],
   "source": [
    "# Object \n",
    "# (1) คุณสมบัติ (Attribute) (2) ฟังก์ชั่นการทำงาน (Method)\n",
    "class Person:\n",
    "  def __init__(self, name, age):\n",
    "    self.name = name\n",
    "    self.age = age\n",
    "  def eat(self):\n",
    "    print(\"I can eat now.\")\n",
    "\n",
    "p1 = Person(\"Manee\",15)\n",
    "print(p1.name)\n",
    "print(p1.age)\n",
    "p1.eat()"
   ]
  },
  {
   "cell_type": "code",
   "execution_count": 31,
   "metadata": {
    "colab": {
     "base_uri": "https://localhost:8080/"
    },
    "id": "izDFWu0axncI",
    "outputId": "b448c288-e0db-4e87-8320-b164ddd74cfa"
   },
   "outputs": [
    {
     "name": "stdout",
     "output_type": "stream",
     "text": [
      "50\n",
      "0\n",
      "[1 2 3 4 5]\n",
      "1\n",
      "[[1 2 3]\n",
      " [4 5 6]]\n",
      "2\n",
      "[[[1 2 3]\n",
      "  [4 5 6]]\n",
      "\n",
      " [[1 2 3]\n",
      "  [4 5 6]]]\n",
      "3\n"
     ]
    }
   ],
   "source": [
    "# การเรียกใช้ไลบรารี\n",
    "import numpy as np\n",
    "\n",
    "# numpy array\n",
    "arr = np.array(50)\n",
    "print(arr)\n",
    "print(arr.ndim)\n",
    "\n",
    "arr = np.array([1,2,3,4,5])\n",
    "print(arr)\n",
    "print(arr.ndim)\n",
    "\n",
    "arr = np.array([[1,2,3],[4,5,6]])\n",
    "print(arr)\n",
    "print(arr.ndim)\n",
    "\n",
    "arr = np.array([[[1,2,3],[4,5,6]],[[1,2,3],[4,5,6]]])\n",
    "print(arr)\n",
    "print(arr.ndim)"
   ]
  },
  {
   "cell_type": "code",
   "execution_count": 2,
   "metadata": {
    "colab": {
     "base_uri": "https://localhost:8080/"
    },
    "id": "d5LAY2YIzXkf",
    "outputId": "d5e6db54-3597-4d08-c5dc-ac5068d7837c"
   },
   "outputs": [
    {
     "name": "stdout",
     "output_type": "stream",
     "text": [
      "5\n",
      "5\n",
      "   one  two\n",
      "a  1.0  1.0\n",
      "b  2.0  2.0\n",
      "c  3.0  NaN\n",
      "e  NaN  3.0\n",
      "f  NaN  4.0\n",
      "Index(['a', 'b', 'c', 'e', 'f'], dtype='object')\n",
      "Index(['one', 'two'], dtype='object')\n",
      "a    1.0\n",
      "b    2.0\n",
      "c    3.0\n",
      "e    NaN\n",
      "f    NaN\n",
      "Name: one, dtype: float64\n"
     ]
    }
   ],
   "source": [
    "# pandas\n",
    "import numpy as np\n",
    "import pandas as pd\n",
    "s = pd.Series([1,3,5,13,6,8])\n",
    "print(s[2])\n",
    "s = pd.Series([1,3,5,13,6,8],index = ['a','b','c','d','e','f'])\n",
    "print(s['c'])\n",
    "\n",
    "d = { \n",
    "    'one':pd.Series([1,2,3],index=['a','b','c']),\n",
    "    'two':pd.Series([1,2,3,4],index=['a','b','e','f'])\n",
    "}\n",
    "df = pd.DataFrame(d)\n",
    "print(df)\n",
    "\n",
    "print(df.index)\n",
    "print(df.columns)\n",
    "print(df['one'])\n"
   ]
  },
  {
   "cell_type": "code",
   "execution_count": 41,
   "metadata": {
    "colab": {
     "base_uri": "https://localhost:8080/",
     "height": 265
    },
    "id": "F57ACMKw2ZwN",
    "outputId": "f1aba8d5-c850-42fc-8922-cc98cd31619c"
   },
   "outputs": [
    {
     "data": {
      "image/png": "[encoded data removed]",
      "text/plain": [
       "<Figure size 432x288 with 1 Axes>"
      ]
     },
     "metadata": {
      "needs_background": "light",
      "tags": []
     },
     "output_type": "display_data"
    }
   ],
   "source": [
    "import matplotlib.pyplot as plt\n",
    "import numpy as np\n",
    "xpoints = np.array([0,10])\n",
    "ypoints = np.array([0,100])\n",
    "plt.plot(xpoints,ypoints)\n",
    "plt.show()"
   ]
  },
  {
   "cell_type": "code",
   "execution_count": 47,
   "metadata": {
    "colab": {
     "base_uri": "https://localhost:8080/",
     "height": 265
    },
    "id": "-Zz9DSsp3FTp",
    "outputId": "7ed8ee10-65ee-4730-9047-aa66febeaf40"
   },
   "outputs": [
    {
     "data": {
      "image/png": "[encoded data removed]",
      "text/plain": [
       "<Figure size 432x288 with 1 Axes>"
      ]
     },
     "metadata": {
      "needs_background": "light",
      "tags": []
     },
     "output_type": "display_data"
    }
   ],
   "source": [
    "import matplotlib.pyplot as plt\n",
    "import numpy as np\n",
    "ypoints = np.array([2,9,3,12])\n",
    "plt.plot(ypoints, 'o:b',ms =20,mec = 'r')\n",
    "plt.show()"
   ]
  }
 ],
 "metadata": {
  "colab": {
   "name": "basic_python.ipynb",
   "provenance": []
  },
  "kernelspec": {
   "display_name": "Python 3",
   "language": "python",
   "name": "python3"
  },
  "language_info": {
   "codemirror_mode": {
    "name": "ipython",
    "version": 3
   },
   "file_extension": ".py",
   "mimetype": "text/x-python",
   "name": "python",
   "nbconvert_exporter": "python",
   "pygments_lexer": "ipython3",
   "version": "3.8.8"
  }
 },
 "nbformat": 4,
 "nbformat_minor": 1
}

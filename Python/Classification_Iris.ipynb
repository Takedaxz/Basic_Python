{
 "cells": [
  {
   "cell_type": "code",
   "execution_count": 2,
   "metadata": {
    "colab": {
     "base_uri": "https://localhost:8080/"
    },
    "id": "4PhVqu3lirfx",
    "outputId": "d8843c74-3ccc-4ab5-f2d6-5b92e3938dee"
   },
   "outputs": [
    {
     "name": "stdout",
     "output_type": "stream",
     "text": [
      "accuracy DT train :1.00\n",
      "accuracy DT test  :0.98\n",
      "accuracy KNN train :0.97\n",
      "accuracy KNN test  :0.98\n",
      "accuracy MLP train :1.00\n",
      "accuracy MLP test  :0.98\n"
     ]
    },
    {
     "name": "stderr",
     "output_type": "stream",
     "text": [
      "D:\\Application\\Anaconda\\lib\\site-packages\\sklearn\\neighbors\\_classification.py:179: DataConversionWarning: A column-vector y was passed when a 1d array was expected. Please change the shape of y to (n_samples,), for example using ravel().\n",
      "  return self._fit(X, y)\n",
      "D:\\Application\\Anaconda\\lib\\site-packages\\sklearn\\utils\\validation.py:63: DataConversionWarning: A column-vector y was passed when a 1d array was expected. Please change the shape of y to (n_samples, ), for example using ravel().\n",
      "  return f(*args, **kwargs)\n"
     ]
    }
   ],
   "source": [
    "from sklearn.datasets import load_iris\n",
    "import pandas as pd\n",
    "import numpy as np\n",
    "import matplotlib.pyplot as plt\n",
    "\n",
    "# 1) read data\n",
    "iris_dataset = load_iris()\n",
    "\n",
    "XX = pd.DataFrame(iris_dataset.data, columns=iris_dataset.feature_names)\n",
    "yy = pd.DataFrame(iris_dataset.target)\n",
    "\n",
    "# 2) Split data -> train / test\n",
    "from sklearn.model_selection import train_test_split\n",
    "X_train, X_test ,y_train,y_test = train_test_split(XX, yy, test_size=0.3,random_state=0)\n",
    "\n",
    "# 3) Normalise data\n",
    "from sklearn.preprocessing import StandardScaler \n",
    "sc = StandardScaler()\n",
    "sc.fit(X_train)\n",
    "\n",
    "X_train_std = sc.transform(X_train)\n",
    "X_test_std = sc.transform(X_test)\n",
    "\n",
    "from sklearn import tree\n",
    "# 4) create tree object\n",
    "decision_tree = tree.DecisionTreeClassifier(criterion=\"gini\")\n",
    "\n",
    "# 5) train\n",
    "decision_tree.fit(X_train_std,y_train)\n",
    "\n",
    "# 6) predict\n",
    "y_predict = decision_tree.predict(X_test_std)\n",
    "\n",
    "# 7) performace \n",
    "print(\"accuracy DT train :{:.2f}\".format(decision_tree.score(X_train_std, y_train)))\n",
    "print(\"accuracy DT test  :{:.2f}\".format(decision_tree.score(X_test_std, y_test)))\n",
    "\n",
    "\n",
    "# KNN\n",
    "from sklearn.neighbors import KNeighborsClassifier\n",
    "knn = KNeighborsClassifier(n_neighbors=5)\n",
    "\n",
    "knn.fit(X_train_std,y_train)\n",
    "\n",
    "print(\"accuracy KNN train :{:.2f}\".format(knn.score(X_train_std, y_train)))\n",
    "print(\"accuracy KNN test  :{:.2f}\".format(knn.score(X_test_std, y_test)))\n",
    "\n",
    "\n",
    "# NN \n",
    "from sklearn.neural_network import MLPClassifier\n",
    "mlp = MLPClassifier(solver='lbfgs', hidden_layer_sizes=(5,2),random_state=0)\n",
    "mlp.fit(X_train_std,y_train)\n",
    "print(\"accuracy MLP train :{:.2f}\".format(mlp.score(X_train_std, y_train)))\n",
    "print(\"accuracy MLP test  :{:.2f}\".format(mlp.score(X_test_std, y_test)))\n"
   ]
  },
  {
   "cell_type": "code",
   "execution_count": 4,
   "metadata": {
    "colab": {
     "base_uri": "https://localhost:8080/",
     "height": 778
    },
    "id": "BQtV7NdAivb1",
    "outputId": "7025a2b7-637b-4543-cc77-121bac7d0797",
    "scrolled": true
   },
   "outputs": [
    {
     "ename": "ModuleNotFoundError",
     "evalue": "No module named 'graphviz'",
     "output_type": "error",
     "traceback": [
      "\u001b[1;31m---------------------------------------------------------------------------\u001b[0m",
      "\u001b[1;31mModuleNotFoundError\u001b[0m                       Traceback (most recent call last)",
      "\u001b[1;32m<ipython-input-4-faf4f1da1487>\u001b[0m in \u001b[0;36m<module>\u001b[1;34m\u001b[0m\n\u001b[1;32m----> 1\u001b[1;33m \u001b[1;32mimport\u001b[0m \u001b[0mgraphviz\u001b[0m\u001b[1;33m\u001b[0m\u001b[1;33m\u001b[0m\u001b[0m\n\u001b[0m\u001b[0;32m      2\u001b[0m \u001b[0mdot_data\u001b[0m \u001b[1;33m=\u001b[0m \u001b[0mtree\u001b[0m\u001b[1;33m.\u001b[0m\u001b[0mexport_graphviz\u001b[0m\u001b[1;33m(\u001b[0m\u001b[0mdecision_tree\u001b[0m\u001b[1;33m,\u001b[0m \u001b[0mout_file\u001b[0m\u001b[1;33m=\u001b[0m\u001b[1;32mNone\u001b[0m\u001b[1;33m)\u001b[0m\u001b[1;33m\u001b[0m\u001b[1;33m\u001b[0m\u001b[0m\n\u001b[0;32m      3\u001b[0m \u001b[0mgraph\u001b[0m \u001b[1;33m=\u001b[0m \u001b[0mgraphviz\u001b[0m\u001b[1;33m.\u001b[0m\u001b[0mSource\u001b[0m\u001b[1;33m(\u001b[0m\u001b[0mdot_data\u001b[0m\u001b[1;33m)\u001b[0m\u001b[1;33m\u001b[0m\u001b[1;33m\u001b[0m\u001b[0m\n\u001b[0;32m      4\u001b[0m \u001b[0mgraph\u001b[0m\u001b[1;33m.\u001b[0m\u001b[0mrender\u001b[0m\u001b[1;33m(\u001b[0m\u001b[1;34m\"iris\"\u001b[0m\u001b[1;33m)\u001b[0m\u001b[1;33m\u001b[0m\u001b[1;33m\u001b[0m\u001b[0m\n\u001b[0;32m      5\u001b[0m \u001b[1;33m\u001b[0m\u001b[0m\n",
      "\u001b[1;31mModuleNotFoundError\u001b[0m: No module named 'graphviz'"
     ]
    }
   ],
   "source": [
    "import graphviz \n",
    "dot_data = tree.export_graphviz(decision_tree, out_file=None) \n",
    "graph = graphviz.Source(dot_data) \n",
    "graph.render(\"iris\") \n",
    "\n",
    "dot_data = tree.export_graphviz(decision_tree, out_file=None, \n",
    "                     feature_names=iris_dataset.feature_names,  \n",
    "                     class_names=iris_dataset.target_names,  \n",
    "                     filled=True, rounded=True,  \n",
    "                     special_characters=True)  \n",
    "graph = graphviz.Source(dot_data)  \n",
    "graph \n"
   ]
  },
  {
   "cell_type": "code",
   "execution_count": 18,
   "metadata": {
    "colab": {
     "base_uri": "https://localhost:8080/"
    },
    "id": "zsomSkOCuBuA",
    "outputId": "63210da1-84fc-428e-b9c4-c281adcbb428"
   },
   "outputs": [
    {
     "name": "stdout",
     "output_type": "stream",
     "text": [
      "accuracy MLP (train) :0.79\n",
      "accuracy MLP (test)  :0.84\n",
      "(105, 1)\n"
     ]
    },
    {
     "name": "stderr",
     "output_type": "stream",
     "text": [
      "/usr/local/lib/python3.6/dist-packages/sklearn/neural_network/_multilayer_perceptron.py:571: ConvergenceWarning: Stochastic Optimizer: Maximum iterations (200) reached and the optimization hasn't converged yet.\n",
      "  % self.max_iter, ConvergenceWarning)\n"
     ]
    }
   ],
   "source": [
    "# NN \n",
    "from sklearn.neural_network import MLPClassifier\n",
    "mlp = MLPClassifier(hidden_layer_sizes=(4,),random_state=0)\n",
    "y_train = y_train\n",
    "mlp.fit(X_train_std,y_train.values.ravel())\n",
    "print(\"accuracy MLP (train) :{:.2f}\".format(mlp.score(X_train_std, y_train)))\n",
    "print(\"accuracy MLP (test)  :{:.2f}\".format(mlp.score(X_test_std, y_test)))\n",
    "\n",
    "print(y_train.shape)"
   ]
  }
 ],
 "metadata": {
  "colab": {
   "collapsed_sections": [],
   "name": "classification.ipynb",
   "provenance": []
  },
  "kernelspec": {
   "display_name": "Python 3",
   "language": "python",
   "name": "python3"
  },
  "language_info": {
   "codemirror_mode": {
    "name": "ipython",
    "version": 3
   },
   "file_extension": ".py",
   "mimetype": "text/x-python",
   "name": "python",
   "nbconvert_exporter": "python",
   "pygments_lexer": "ipython3",
   "version": "3.8.8"
  }
 },
 "nbformat": 4,
 "nbformat_minor": 1
}

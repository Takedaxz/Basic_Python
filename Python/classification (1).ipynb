{
  "nbformat": 4,
  "nbformat_minor": 0,
  "metadata": {
    "colab": {
      "name": "classification.ipynb",
      "provenance": [],
      "collapsed_sections": []
    },
    "kernelspec": {
      "name": "python3",
      "display_name": "Python 3"
    }
  },
  "cells": [
    {
      "cell_type": "code",
      "metadata": {
        "id": "4PhVqu3lirfx",
        "colab": {
          "base_uri": "https://localhost:8080/"
        },
        "outputId": "d8843c74-3ccc-4ab5-f2d6-5b92e3938dee"
      },
      "source": [
        "from sklearn.datasets import load_iris\n",
        "import pandas as pd\n",
        "import numpy as np\n",
        "import matplotlib.pyplot as plt\n",
        "\n",
        "# 1) read data\n",
        "iris_dataset = load_iris()\n",
        "\n",
        "XX = pd.DataFrame(iris_dataset.data, columns=iris_dataset.feature_names)\n",
        "yy = pd.DataFrame(iris_dataset.target)\n",
        "\n",
        "# 2) Split data -> train / test\n",
        "from sklearn.model_selection import train_test_split\n",
        "X_train, X_test ,y_train,y_test = train_test_split(XX, yy, test_size=0.3,random_state=0)\n",
        "\n",
        "# 3) Normalise data\n",
        "from sklearn.preprocessing import StandardScaler \n",
        "sc = StandardScaler()\n",
        "sc.fit(X_train)\n",
        "\n",
        "X_train_std = sc.transform(X_train)\n",
        "X_test_std = sc.transform(X_test)\n",
        "\n",
        "from sklearn import tree\n",
        "# 4) create tree object\n",
        "decision_tree = tree.DecisionTreeClassifier(criterion=\"gini\")\n",
        "\n",
        "# 5) train\n",
        "decision_tree.fit(X_train_std,y_train)\n",
        "\n",
        "# 6) predict\n",
        "y_predict = decision_tree.predict(X_test_std)\n",
        "\n",
        "# 7) performace \n",
        "print(\"accuracy DT train :{:.2f}\".format(decision_tree.score(X_train_std, y_train)))\n",
        "print(\"accuracy DT test  :{:.2f}\".format(decision_tree.score(X_test_std, y_test)))\n",
        "\n",
        "\n",
        "# KNN\n",
        "from sklearn.neighbors import KNeighborsClassifier\n",
        "knn = KNeighborsClassifier(n_neighbors=5)\n",
        "\n",
        "knn.fit(X_train_std,y_train)\n",
        "\n",
        "print(\"accuracy KNN train :{:.2f}\".format(knn.score(X_train_std, y_train)))\n",
        "print(\"accuracy KNN test  :{:.2f}\".format(knn.score(X_test_std, y_test)))\n",
        "\n",
        "\n",
        "# NN \n",
        "from sklearn.neural_network import MLPClassifier\n",
        "mlp = MLPClassifier(solver='lbfgs', hidden_layer_sizes=(5,2),random_state=0)\n",
        "mlp.fit(X_train_std,y_train)\n",
        "print(\"accuracy MLP train :{:.2f}\".format(mlp.score(X_train_std, y_train)))\n",
        "print(\"accuracy MLP test  :{:.2f}\".format(mlp.score(X_test_std, y_test)))\n"
      ],
      "execution_count": null,
      "outputs": [
        {
          "output_type": "stream",
          "text": [
            "1.0\n",
            "0.9777777777777777\n",
            "accuracy DT train :1.00\n",
            "accuracy DT test  :0.98\n",
            "accuracy KNN train :0.97\n",
            "accuracy KNN test  :0.98\n",
            "accuracy MLP train :1.00\n",
            "accuracy MLP test  :0.98\n"
          ],
          "name": "stdout"
        },
        {
          "output_type": "stream",
          "text": [
            "/usr/local/lib/python3.6/dist-packages/ipykernel_launcher.py:47: DataConversionWarning: A column-vector y was passed when a 1d array was expected. Please change the shape of y to (n_samples, ), for example using ravel().\n",
            "/usr/local/lib/python3.6/dist-packages/sklearn/neural_network/_multilayer_perceptron.py:934: DataConversionWarning: A column-vector y was passed when a 1d array was expected. Please change the shape of y to (n_samples, ), for example using ravel().\n",
            "  y = column_or_1d(y, warn=True)\n"
          ],
          "name": "stderr"
        }
      ]
    },
    {
      "cell_type": "code",
      "metadata": {
        "id": "BQtV7NdAivb1",
        "colab": {
          "base_uri": "https://localhost:8080/",
          "height": 778
        },
        "outputId": "7025a2b7-637b-4543-cc77-121bac7d0797"
      },
      "source": [
        "import graphviz \n",
        "dot_data = tree.export_graphviz(decision_tree, out_file=None) \n",
        "graph = graphviz.Source(dot_data) \n",
        "graph.render(\"iris\") \n",
        "\n",
        "dot_data = tree.export_graphviz(decision_tree, out_file=None, \n",
        "                     feature_names=iris_dataset.feature_names,  \n",
        "                     class_names=iris_dataset.target_names,  \n",
        "                     filled=True, rounded=True,  \n",
        "                     special_characters=True)  \n",
        "graph = graphviz.Source(dot_data)  \n",
        "graph \n"
      ],
      "execution_count": null,
      "outputs": [
        {
          "output_type": "execute_result",
          "data": {
            "text/plain": [
              "<graphviz.files.Source at 0x7f654ceeae80>"
            ],
            "image/svg+xml": "<?xml version=\"1.0\" encoding=\"UTF-8\" standalone=\"no\"?>\n<!DOCTYPE svg PUBLIC \"-//W3C//DTD SVG 1.1//EN\"\n \"http://www.w3.org/Graphics/SVG/1.1/DTD/svg11.dtd\">\n<!-- Generated by graphviz version 2.40.1 (20161225.0304)\n -->\n<!-- Title: Tree Pages: 1 -->\n<svg width=\"666pt\" height=\"552pt\"\n viewBox=\"0.00 0.00 665.50 552.00\" xmlns=\"http://www.w3.org/2000/svg\" xmlns:xlink=\"http://www.w3.org/1999/xlink\">\n<g id=\"graph0\" class=\"graph\" transform=\"scale(1 1) rotate(0) translate(4 548)\">\n<title>Tree</title>\n<polygon fill=\"#ffffff\" stroke=\"transparent\" points=\"-4,4 -4,-548 661.5,-548 661.5,4 -4,4\"/>\n<!-- 0 -->\n<g id=\"node1\" class=\"node\">\n<title>0</title>\n<path fill=\"#f6f1fd\" stroke=\"#000000\" d=\"M324,-544C324,-544 168,-544 168,-544 162,-544 156,-538 156,-532 156,-532 156,-473 156,-473 156,-467 162,-461 168,-461 168,-461 324,-461 324,-461 330,-461 336,-467 336,-473 336,-473 336,-532 336,-532 336,-538 330,-544 324,-544\"/>\n<text text-anchor=\"start\" x=\"164\" y=\"-528.8\" font-family=\"Helvetica,sans-Serif\" font-size=\"14.00\" fill=\"#000000\">petal length (cm) ≤ &#45;0.823</text>\n<text text-anchor=\"start\" x=\"208\" y=\"-513.8\" font-family=\"Helvetica,sans-Serif\" font-size=\"14.00\" fill=\"#000000\">gini = 0.664</text>\n<text text-anchor=\"start\" x=\"198\" y=\"-498.8\" font-family=\"Helvetica,sans-Serif\" font-size=\"14.00\" fill=\"#000000\">samples = 105</text>\n<text text-anchor=\"start\" x=\"184\" y=\"-483.8\" font-family=\"Helvetica,sans-Serif\" font-size=\"14.00\" fill=\"#000000\">value = [34, 32, 39]</text>\n<text text-anchor=\"start\" x=\"194.5\" y=\"-468.8\" font-family=\"Helvetica,sans-Serif\" font-size=\"14.00\" fill=\"#000000\">class = virginica</text>\n</g>\n<!-- 1 -->\n<g id=\"node2\" class=\"node\">\n<title>1</title>\n<path fill=\"#e58139\" stroke=\"#000000\" d=\"M211.5,-417.5C211.5,-417.5 112.5,-417.5 112.5,-417.5 106.5,-417.5 100.5,-411.5 100.5,-405.5 100.5,-405.5 100.5,-361.5 100.5,-361.5 100.5,-355.5 106.5,-349.5 112.5,-349.5 112.5,-349.5 211.5,-349.5 211.5,-349.5 217.5,-349.5 223.5,-355.5 223.5,-361.5 223.5,-361.5 223.5,-405.5 223.5,-405.5 223.5,-411.5 217.5,-417.5 211.5,-417.5\"/>\n<text text-anchor=\"start\" x=\"132.5\" y=\"-402.3\" font-family=\"Helvetica,sans-Serif\" font-size=\"14.00\" fill=\"#000000\">gini = 0.0</text>\n<text text-anchor=\"start\" x=\"118\" y=\"-387.3\" font-family=\"Helvetica,sans-Serif\" font-size=\"14.00\" fill=\"#000000\">samples = 34</text>\n<text text-anchor=\"start\" x=\"108.5\" y=\"-372.3\" font-family=\"Helvetica,sans-Serif\" font-size=\"14.00\" fill=\"#000000\">value = [34, 0, 0]</text>\n<text text-anchor=\"start\" x=\"115\" y=\"-357.3\" font-family=\"Helvetica,sans-Serif\" font-size=\"14.00\" fill=\"#000000\">class = setosa</text>\n</g>\n<!-- 0&#45;&gt;1 -->\n<g id=\"edge1\" class=\"edge\">\n<title>0&#45;&gt;1</title>\n<path fill=\"none\" stroke=\"#000000\" d=\"M216.6209,-460.8796C208.7037,-449.6636 200.1269,-437.5131 192.1675,-426.2372\"/>\n<polygon fill=\"#000000\" stroke=\"#000000\" points=\"194.8486,-423.9662 186.2223,-417.8149 189.1298,-428.003 194.8486,-423.9662\"/>\n<text text-anchor=\"middle\" x=\"181.9746\" y=\"-438.7514\" font-family=\"Helvetica,sans-Serif\" font-size=\"14.00\" fill=\"#000000\">True</text>\n</g>\n<!-- 2 -->\n<g id=\"node3\" class=\"node\">\n<title>2</title>\n<path fill=\"#e8dbfa\" stroke=\"#000000\" d=\"M406,-425C406,-425 254,-425 254,-425 248,-425 242,-419 242,-413 242,-413 242,-354 242,-354 242,-348 248,-342 254,-342 254,-342 406,-342 406,-342 412,-342 418,-348 418,-354 418,-354 418,-413 418,-413 418,-419 412,-425 406,-425\"/>\n<text text-anchor=\"start\" x=\"250\" y=\"-409.8\" font-family=\"Helvetica,sans-Serif\" font-size=\"14.00\" fill=\"#000000\">petal length (cm) ≤ 0.624</text>\n<text text-anchor=\"start\" x=\"292\" y=\"-394.8\" font-family=\"Helvetica,sans-Serif\" font-size=\"14.00\" fill=\"#000000\">gini = 0.495</text>\n<text text-anchor=\"start\" x=\"286\" y=\"-379.8\" font-family=\"Helvetica,sans-Serif\" font-size=\"14.00\" fill=\"#000000\">samples = 71</text>\n<text text-anchor=\"start\" x=\"272.5\" y=\"-364.8\" font-family=\"Helvetica,sans-Serif\" font-size=\"14.00\" fill=\"#000000\">value = [0, 32, 39]</text>\n<text text-anchor=\"start\" x=\"278.5\" y=\"-349.8\" font-family=\"Helvetica,sans-Serif\" font-size=\"14.00\" fill=\"#000000\">class = virginica</text>\n</g>\n<!-- 0&#45;&gt;2 -->\n<g id=\"edge2\" class=\"edge\">\n<title>0&#45;&gt;2</title>\n<path fill=\"none\" stroke=\"#000000\" d=\"M275.3791,-460.8796C281.6094,-452.0534 288.2481,-442.6485 294.673,-433.5466\"/>\n<polygon fill=\"#000000\" stroke=\"#000000\" points=\"297.588,-435.4862 300.4955,-425.2981 291.8692,-431.4494 297.588,-435.4862\"/>\n<text text-anchor=\"middle\" x=\"304.7432\" y=\"-446.2346\" font-family=\"Helvetica,sans-Serif\" font-size=\"14.00\" fill=\"#000000\">False</text>\n</g>\n<!-- 3 -->\n<g id=\"node4\" class=\"node\">\n<title>3</title>\n<path fill=\"#4ce88d\" stroke=\"#000000\" d=\"M306,-306C306,-306 160,-306 160,-306 154,-306 148,-300 148,-294 148,-294 148,-235 148,-235 148,-229 154,-223 160,-223 160,-223 306,-223 306,-223 312,-223 318,-229 318,-235 318,-235 318,-294 318,-294 318,-300 312,-306 306,-306\"/>\n<text text-anchor=\"start\" x=\"156\" y=\"-290.8\" font-family=\"Helvetica,sans-Serif\" font-size=\"14.00\" fill=\"#000000\">petal width (cm) ≤ 0.544</text>\n<text text-anchor=\"start\" x=\"195\" y=\"-275.8\" font-family=\"Helvetica,sans-Serif\" font-size=\"14.00\" fill=\"#000000\">gini = 0.161</text>\n<text text-anchor=\"start\" x=\"189\" y=\"-260.8\" font-family=\"Helvetica,sans-Serif\" font-size=\"14.00\" fill=\"#000000\">samples = 34</text>\n<text text-anchor=\"start\" x=\"179.5\" y=\"-245.8\" font-family=\"Helvetica,sans-Serif\" font-size=\"14.00\" fill=\"#000000\">value = [0, 31, 3]</text>\n<text text-anchor=\"start\" x=\"177\" y=\"-230.8\" font-family=\"Helvetica,sans-Serif\" font-size=\"14.00\" fill=\"#000000\">class = versicolor</text>\n</g>\n<!-- 2&#45;&gt;3 -->\n<g id=\"edge3\" class=\"edge\">\n<title>2&#45;&gt;3</title>\n<path fill=\"none\" stroke=\"#000000\" d=\"M296.0741,-341.8796C288.8062,-332.9633 281.057,-323.4565 273.5672,-314.268\"/>\n<polygon fill=\"#000000\" stroke=\"#000000\" points=\"276.1018,-311.8379 267.0707,-306.2981 270.676,-316.2606 276.1018,-311.8379\"/>\n</g>\n<!-- 8 -->\n<g id=\"node9\" class=\"node\">\n<title>8</title>\n<path fill=\"#843ee6\" stroke=\"#000000\" d=\"M498.5,-306C498.5,-306 355.5,-306 355.5,-306 349.5,-306 343.5,-300 343.5,-294 343.5,-294 343.5,-235 343.5,-235 343.5,-229 349.5,-223 355.5,-223 355.5,-223 498.5,-223 498.5,-223 504.5,-223 510.5,-229 510.5,-235 510.5,-235 510.5,-294 510.5,-294 510.5,-300 504.5,-306 498.5,-306\"/>\n<text text-anchor=\"start\" x=\"351.5\" y=\"-290.8\" font-family=\"Helvetica,sans-Serif\" font-size=\"14.00\" fill=\"#000000\">petal length (cm) ≤ 0.68</text>\n<text text-anchor=\"start\" x=\"389\" y=\"-275.8\" font-family=\"Helvetica,sans-Serif\" font-size=\"14.00\" fill=\"#000000\">gini = 0.053</text>\n<text text-anchor=\"start\" x=\"383\" y=\"-260.8\" font-family=\"Helvetica,sans-Serif\" font-size=\"14.00\" fill=\"#000000\">samples = 37</text>\n<text text-anchor=\"start\" x=\"373.5\" y=\"-245.8\" font-family=\"Helvetica,sans-Serif\" font-size=\"14.00\" fill=\"#000000\">value = [0, 1, 36]</text>\n<text text-anchor=\"start\" x=\"375.5\" y=\"-230.8\" font-family=\"Helvetica,sans-Serif\" font-size=\"14.00\" fill=\"#000000\">class = virginica</text>\n</g>\n<!-- 2&#45;&gt;8 -->\n<g id=\"edge8\" class=\"edge\">\n<title>2&#45;&gt;8</title>\n<path fill=\"none\" stroke=\"#000000\" d=\"M363.9259,-341.8796C371.1938,-332.9633 378.943,-323.4565 386.4328,-314.268\"/>\n<polygon fill=\"#000000\" stroke=\"#000000\" points=\"389.324,-316.2606 392.9293,-306.2981 383.8982,-311.8379 389.324,-316.2606\"/>\n</g>\n<!-- 4 -->\n<g id=\"node5\" class=\"node\">\n<title>4</title>\n<path fill=\"#39e581\" stroke=\"#000000\" d=\"M116,-179.5C116,-179.5 12,-179.5 12,-179.5 6,-179.5 0,-173.5 0,-167.5 0,-167.5 0,-123.5 0,-123.5 0,-117.5 6,-111.5 12,-111.5 12,-111.5 116,-111.5 116,-111.5 122,-111.5 128,-117.5 128,-123.5 128,-123.5 128,-167.5 128,-167.5 128,-173.5 122,-179.5 116,-179.5\"/>\n<text text-anchor=\"start\" x=\"34.5\" y=\"-164.3\" font-family=\"Helvetica,sans-Serif\" font-size=\"14.00\" fill=\"#000000\">gini = 0.0</text>\n<text text-anchor=\"start\" x=\"20\" y=\"-149.3\" font-family=\"Helvetica,sans-Serif\" font-size=\"14.00\" fill=\"#000000\">samples = 30</text>\n<text text-anchor=\"start\" x=\"10.5\" y=\"-134.3\" font-family=\"Helvetica,sans-Serif\" font-size=\"14.00\" fill=\"#000000\">value = [0, 30, 0]</text>\n<text text-anchor=\"start\" x=\"8\" y=\"-119.3\" font-family=\"Helvetica,sans-Serif\" font-size=\"14.00\" fill=\"#000000\">class = versicolor</text>\n</g>\n<!-- 3&#45;&gt;4 -->\n<g id=\"edge4\" class=\"edge\">\n<title>3&#45;&gt;4</title>\n<path fill=\"none\" stroke=\"#000000\" d=\"M173.892,-222.8796C156.6323,-210.7263 137.8144,-197.4759 120.707,-185.4297\"/>\n<polygon fill=\"#000000\" stroke=\"#000000\" points=\"122.6519,-182.5187 112.4604,-179.623 118.6218,-188.2421 122.6519,-182.5187\"/>\n</g>\n<!-- 5 -->\n<g id=\"node6\" class=\"node\">\n<title>5</title>\n<path fill=\"#ab7bee\" stroke=\"#000000\" d=\"M307.5,-187C307.5,-187 158.5,-187 158.5,-187 152.5,-187 146.5,-181 146.5,-175 146.5,-175 146.5,-116 146.5,-116 146.5,-110 152.5,-104 158.5,-104 158.5,-104 307.5,-104 307.5,-104 313.5,-104 319.5,-110 319.5,-116 319.5,-116 319.5,-175 319.5,-175 319.5,-181 313.5,-187 307.5,-187\"/>\n<text text-anchor=\"start\" x=\"154.5\" y=\"-171.8\" font-family=\"Helvetica,sans-Serif\" font-size=\"14.00\" fill=\"#000000\">sepal width (cm) ≤ 0.126</text>\n<text text-anchor=\"start\" x=\"195\" y=\"-156.8\" font-family=\"Helvetica,sans-Serif\" font-size=\"14.00\" fill=\"#000000\">gini = 0.375</text>\n<text text-anchor=\"start\" x=\"193.5\" y=\"-141.8\" font-family=\"Helvetica,sans-Serif\" font-size=\"14.00\" fill=\"#000000\">samples = 4</text>\n<text text-anchor=\"start\" x=\"183.5\" y=\"-126.8\" font-family=\"Helvetica,sans-Serif\" font-size=\"14.00\" fill=\"#000000\">value = [0, 1, 3]</text>\n<text text-anchor=\"start\" x=\"181.5\" y=\"-111.8\" font-family=\"Helvetica,sans-Serif\" font-size=\"14.00\" fill=\"#000000\">class = virginica</text>\n</g>\n<!-- 3&#45;&gt;5 -->\n<g id=\"edge5\" class=\"edge\">\n<title>3&#45;&gt;5</title>\n<path fill=\"none\" stroke=\"#000000\" d=\"M233,-222.8796C233,-214.6838 233,-205.9891 233,-197.5013\"/>\n<polygon fill=\"#000000\" stroke=\"#000000\" points=\"236.5001,-197.298 233,-187.2981 229.5001,-197.2981 236.5001,-197.298\"/>\n</g>\n<!-- 6 -->\n<g id=\"node7\" class=\"node\">\n<title>6</title>\n<path fill=\"#8139e5\" stroke=\"#000000\" d=\"M151.5,-68C151.5,-68 56.5,-68 56.5,-68 50.5,-68 44.5,-62 44.5,-56 44.5,-56 44.5,-12 44.5,-12 44.5,-6 50.5,0 56.5,0 56.5,0 151.5,0 151.5,0 157.5,0 163.5,-6 163.5,-12 163.5,-12 163.5,-56 163.5,-56 163.5,-62 157.5,-68 151.5,-68\"/>\n<text text-anchor=\"start\" x=\"74.5\" y=\"-52.8\" font-family=\"Helvetica,sans-Serif\" font-size=\"14.00\" fill=\"#000000\">gini = 0.0</text>\n<text text-anchor=\"start\" x=\"64.5\" y=\"-37.8\" font-family=\"Helvetica,sans-Serif\" font-size=\"14.00\" fill=\"#000000\">samples = 3</text>\n<text text-anchor=\"start\" x=\"54.5\" y=\"-22.8\" font-family=\"Helvetica,sans-Serif\" font-size=\"14.00\" fill=\"#000000\">value = [0, 0, 3]</text>\n<text text-anchor=\"start\" x=\"52.5\" y=\"-7.8\" font-family=\"Helvetica,sans-Serif\" font-size=\"14.00\" fill=\"#000000\">class = virginica</text>\n</g>\n<!-- 5&#45;&gt;6 -->\n<g id=\"edge6\" class=\"edge\">\n<title>5&#45;&gt;6</title>\n<path fill=\"none\" stroke=\"#000000\" d=\"M184.9652,-103.9815C174.013,-94.5151 162.3821,-84.462 151.4544,-75.0168\"/>\n<polygon fill=\"#000000\" stroke=\"#000000\" points=\"153.4957,-72.155 143.6414,-68.2637 148.9182,-77.4509 153.4957,-72.155\"/>\n</g>\n<!-- 7 -->\n<g id=\"node8\" class=\"node\">\n<title>7</title>\n<path fill=\"#39e581\" stroke=\"#000000\" d=\"M298,-68C298,-68 194,-68 194,-68 188,-68 182,-62 182,-56 182,-56 182,-12 182,-12 182,-6 188,0 194,0 194,0 298,0 298,0 304,0 310,-6 310,-12 310,-12 310,-56 310,-56 310,-62 304,-68 298,-68\"/>\n<text text-anchor=\"start\" x=\"216.5\" y=\"-52.8\" font-family=\"Helvetica,sans-Serif\" font-size=\"14.00\" fill=\"#000000\">gini = 0.0</text>\n<text text-anchor=\"start\" x=\"206.5\" y=\"-37.8\" font-family=\"Helvetica,sans-Serif\" font-size=\"14.00\" fill=\"#000000\">samples = 1</text>\n<text text-anchor=\"start\" x=\"196.5\" y=\"-22.8\" font-family=\"Helvetica,sans-Serif\" font-size=\"14.00\" fill=\"#000000\">value = [0, 1, 0]</text>\n<text text-anchor=\"start\" x=\"190\" y=\"-7.8\" font-family=\"Helvetica,sans-Serif\" font-size=\"14.00\" fill=\"#000000\">class = versicolor</text>\n</g>\n<!-- 5&#45;&gt;7 -->\n<g id=\"edge7\" class=\"edge\">\n<title>5&#45;&gt;7</title>\n<path fill=\"none\" stroke=\"#000000\" d=\"M237.8407,-103.9815C238.8158,-95.618 239.8443,-86.7965 240.8302,-78.3409\"/>\n<polygon fill=\"#000000\" stroke=\"#000000\" points=\"244.3234,-78.6017 242.0051,-68.2637 237.3705,-77.791 244.3234,-78.6017\"/>\n</g>\n<!-- 9 -->\n<g id=\"node10\" class=\"node\">\n<title>9</title>\n<path fill=\"#ab7bee\" stroke=\"#000000\" d=\"M504,-187C504,-187 350,-187 350,-187 344,-187 338,-181 338,-175 338,-175 338,-116 338,-116 338,-110 344,-104 350,-104 350,-104 504,-104 504,-104 510,-104 516,-110 516,-116 516,-116 516,-175 516,-175 516,-181 510,-187 504,-187\"/>\n<text text-anchor=\"start\" x=\"346\" y=\"-171.8\" font-family=\"Helvetica,sans-Serif\" font-size=\"14.00\" fill=\"#000000\">sepal width (cm) ≤ &#45;0.671</text>\n<text text-anchor=\"start\" x=\"389\" y=\"-156.8\" font-family=\"Helvetica,sans-Serif\" font-size=\"14.00\" fill=\"#000000\">gini = 0.375</text>\n<text text-anchor=\"start\" x=\"387.5\" y=\"-141.8\" font-family=\"Helvetica,sans-Serif\" font-size=\"14.00\" fill=\"#000000\">samples = 4</text>\n<text text-anchor=\"start\" x=\"377.5\" y=\"-126.8\" font-family=\"Helvetica,sans-Serif\" font-size=\"14.00\" fill=\"#000000\">value = [0, 1, 3]</text>\n<text text-anchor=\"start\" x=\"375.5\" y=\"-111.8\" font-family=\"Helvetica,sans-Serif\" font-size=\"14.00\" fill=\"#000000\">class = virginica</text>\n</g>\n<!-- 8&#45;&gt;9 -->\n<g id=\"edge9\" class=\"edge\">\n<title>8&#45;&gt;9</title>\n<path fill=\"none\" stroke=\"#000000\" d=\"M427,-222.8796C427,-214.6838 427,-205.9891 427,-197.5013\"/>\n<polygon fill=\"#000000\" stroke=\"#000000\" points=\"430.5001,-197.298 427,-187.2981 423.5001,-197.2981 430.5001,-197.298\"/>\n</g>\n<!-- 12 -->\n<g id=\"node13\" class=\"node\">\n<title>12</title>\n<path fill=\"#8139e5\" stroke=\"#000000\" d=\"M645.5,-179.5C645.5,-179.5 546.5,-179.5 546.5,-179.5 540.5,-179.5 534.5,-173.5 534.5,-167.5 534.5,-167.5 534.5,-123.5 534.5,-123.5 534.5,-117.5 540.5,-111.5 546.5,-111.5 546.5,-111.5 645.5,-111.5 645.5,-111.5 651.5,-111.5 657.5,-117.5 657.5,-123.5 657.5,-123.5 657.5,-167.5 657.5,-167.5 657.5,-173.5 651.5,-179.5 645.5,-179.5\"/>\n<text text-anchor=\"start\" x=\"566.5\" y=\"-164.3\" font-family=\"Helvetica,sans-Serif\" font-size=\"14.00\" fill=\"#000000\">gini = 0.0</text>\n<text text-anchor=\"start\" x=\"552\" y=\"-149.3\" font-family=\"Helvetica,sans-Serif\" font-size=\"14.00\" fill=\"#000000\">samples = 33</text>\n<text text-anchor=\"start\" x=\"542.5\" y=\"-134.3\" font-family=\"Helvetica,sans-Serif\" font-size=\"14.00\" fill=\"#000000\">value = [0, 0, 33]</text>\n<text text-anchor=\"start\" x=\"544.5\" y=\"-119.3\" font-family=\"Helvetica,sans-Serif\" font-size=\"14.00\" fill=\"#000000\">class = virginica</text>\n</g>\n<!-- 8&#45;&gt;12 -->\n<g id=\"edge12\" class=\"edge\">\n<title>8&#45;&gt;12</title>\n<path fill=\"none\" stroke=\"#000000\" d=\"M486.108,-222.8796C503.3677,-210.7263 522.1856,-197.4759 539.293,-185.4297\"/>\n<polygon fill=\"#000000\" stroke=\"#000000\" points=\"541.3782,-188.2421 547.5396,-179.623 537.3481,-182.5187 541.3782,-188.2421\"/>\n</g>\n<!-- 10 -->\n<g id=\"node11\" class=\"node\">\n<title>10</title>\n<path fill=\"#8139e5\" stroke=\"#000000\" d=\"M461.5,-68C461.5,-68 366.5,-68 366.5,-68 360.5,-68 354.5,-62 354.5,-56 354.5,-56 354.5,-12 354.5,-12 354.5,-6 360.5,0 366.5,0 366.5,0 461.5,0 461.5,0 467.5,0 473.5,-6 473.5,-12 473.5,-12 473.5,-56 473.5,-56 473.5,-62 467.5,-68 461.5,-68\"/>\n<text text-anchor=\"start\" x=\"384.5\" y=\"-52.8\" font-family=\"Helvetica,sans-Serif\" font-size=\"14.00\" fill=\"#000000\">gini = 0.0</text>\n<text text-anchor=\"start\" x=\"374.5\" y=\"-37.8\" font-family=\"Helvetica,sans-Serif\" font-size=\"14.00\" fill=\"#000000\">samples = 3</text>\n<text text-anchor=\"start\" x=\"364.5\" y=\"-22.8\" font-family=\"Helvetica,sans-Serif\" font-size=\"14.00\" fill=\"#000000\">value = [0, 0, 3]</text>\n<text text-anchor=\"start\" x=\"362.5\" y=\"-7.8\" font-family=\"Helvetica,sans-Serif\" font-size=\"14.00\" fill=\"#000000\">class = virginica</text>\n</g>\n<!-- 9&#45;&gt;10 -->\n<g id=\"edge10\" class=\"edge\">\n<title>9&#45;&gt;10</title>\n<path fill=\"none\" stroke=\"#000000\" d=\"M422.1593,-103.9815C421.1842,-95.618 420.1557,-86.7965 419.1698,-78.3409\"/>\n<polygon fill=\"#000000\" stroke=\"#000000\" points=\"422.6295,-77.791 417.9949,-68.2637 415.6766,-78.6017 422.6295,-77.791\"/>\n</g>\n<!-- 11 -->\n<g id=\"node12\" class=\"node\">\n<title>11</title>\n<path fill=\"#39e581\" stroke=\"#000000\" d=\"M608,-68C608,-68 504,-68 504,-68 498,-68 492,-62 492,-56 492,-56 492,-12 492,-12 492,-6 498,0 504,0 504,0 608,0 608,0 614,0 620,-6 620,-12 620,-12 620,-56 620,-56 620,-62 614,-68 608,-68\"/>\n<text text-anchor=\"start\" x=\"526.5\" y=\"-52.8\" font-family=\"Helvetica,sans-Serif\" font-size=\"14.00\" fill=\"#000000\">gini = 0.0</text>\n<text text-anchor=\"start\" x=\"516.5\" y=\"-37.8\" font-family=\"Helvetica,sans-Serif\" font-size=\"14.00\" fill=\"#000000\">samples = 1</text>\n<text text-anchor=\"start\" x=\"506.5\" y=\"-22.8\" font-family=\"Helvetica,sans-Serif\" font-size=\"14.00\" fill=\"#000000\">value = [0, 1, 0]</text>\n<text text-anchor=\"start\" x=\"500\" y=\"-7.8\" font-family=\"Helvetica,sans-Serif\" font-size=\"14.00\" fill=\"#000000\">class = versicolor</text>\n</g>\n<!-- 9&#45;&gt;11 -->\n<g id=\"edge11\" class=\"edge\">\n<title>9&#45;&gt;11</title>\n<path fill=\"none\" stroke=\"#000000\" d=\"M475.0348,-103.9815C485.987,-94.5151 497.6179,-84.462 508.5456,-75.0168\"/>\n<polygon fill=\"#000000\" stroke=\"#000000\" points=\"511.0818,-77.4509 516.3586,-68.2637 506.5043,-72.155 511.0818,-77.4509\"/>\n</g>\n</g>\n</svg>\n"
          },
          "metadata": {
            "tags": []
          },
          "execution_count": 2
        }
      ]
    },
    {
      "cell_type": "code",
      "metadata": {
        "colab": {
          "base_uri": "https://localhost:8080/"
        },
        "id": "zsomSkOCuBuA",
        "outputId": "63210da1-84fc-428e-b9c4-c281adcbb428"
      },
      "source": [
        "# NN \n",
        "from sklearn.neural_network import MLPClassifier\n",
        "mlp = MLPClassifier(hidden_layer_sizes=(4,),random_state=0)\n",
        "y_train = y_train\n",
        "mlp.fit(X_train_std,y_train.values.ravel())\n",
        "print(\"accuracy MLP (train) :{:.2f}\".format(mlp.score(X_train_std, y_train)))\n",
        "print(\"accuracy MLP (test)  :{:.2f}\".format(mlp.score(X_test_std, y_test)))\n",
        "\n",
        "print(y_train.shape)"
      ],
      "execution_count": 18,
      "outputs": [
        {
          "output_type": "stream",
          "text": [
            "accuracy MLP (train) :0.79\n",
            "accuracy MLP (test)  :0.84\n",
            "(105, 1)\n"
          ],
          "name": "stdout"
        },
        {
          "output_type": "stream",
          "text": [
            "/usr/local/lib/python3.6/dist-packages/sklearn/neural_network/_multilayer_perceptron.py:571: ConvergenceWarning: Stochastic Optimizer: Maximum iterations (200) reached and the optimization hasn't converged yet.\n",
            "  % self.max_iter, ConvergenceWarning)\n"
          ],
          "name": "stderr"
        }
      ]
    }
  ]
}
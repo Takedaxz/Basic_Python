{
 "cells": [
  {
   "cell_type": "markdown",
   "id": "98b5b2c8",
   "metadata": {},
   "source": [
    "Twin bar chart"
   ]
  },
  {
   "cell_type": "code",
   "execution_count": 1,
   "id": "b1ca5e6c",
   "metadata": {},
   "outputs": [
    {
     "data": {
      "image/png": "[encoded data removed]",
      "text/plain": [
       "<Figure size 432x288 with 1 Axes>"
      ]
     },
     "metadata": {
      "needs_background": "light"
     },
     "output_type": "display_data"
    }
   ],
   "source": [
    "import matplotlib.pyplot as plt\n",
    "import numpy as np\n",
    "\n",
    "\n",
    "# ข้อมูลจำนวนนักเรียน แต่ละชั้น แยก ชาย (M) หญิง (F)\n",
    "Grade=['M-1', 'M-2', 'M-3', 'M-4', 'M-5', 'M-6']\n",
    "Students_M =[15, 11, 12, 10, 10, 8]\n",
    "Students_F =[20, 18, 18, 15, 15, 12]\n",
    "\n",
    "\n",
    "# ทำการแสดงผลแบบ Twin Bar Chart\n",
    "X = np.arange(6)\n",
    "plt.bar(X + 0.0, Students_M, color = 'b', width = 0.25)\n",
    "plt.bar(X + 0.25, Students_F, color = 'r', width = 0.25)\n",
    "\n",
    "plt.xticks(np.arange(6), Grade)\n",
    "plt.xlabel(\"Grade\")\n",
    "plt.ylabel(\"Number of Students\")\n",
    "plt.legend(labels=['Male','Female'])\n",
    "plt.show()"
   ]
  },
  {
   "cell_type": "markdown",
   "id": "9064c760",
   "metadata": {},
   "source": [
    "Pie chart"
   ]
  },
  {
   "cell_type": "markdown",
   "id": "9a07907c",
   "metadata": {},
   "source": [
    "import matplotlib.pyplot as plt\n",
    "\n",
    "\n",
    "# ข้อมูลจำนวนนักเรียน แต่ละชั้น\n",
    "Grade=['M-1', 'M-2', 'M-3', 'M-4', 'M-5', 'M-6']\n",
    "Students=[35, 29, 30, 25, 25, 20]\n",
    "\n",
    "\n",
    "# ทำการแสดงผลแบบ Pie Chart\n",
    "plt.figure()\n",
    "plt.pie(Students, labels=Grade, autopct='%1.2f%%')\n",
    "plt.show()"
   ]
  }
 ],
 "metadata": {
  "kernelspec": {
   "display_name": "Python 3",
   "language": "python",
   "name": "python3"
  },
  "language_info": {
   "codemirror_mode": {
    "name": "ipython",
    "version": 3
   },
   "file_extension": ".py",
   "mimetype": "text/x-python",
   "name": "python",
   "nbconvert_exporter": "python",
   "pygments_lexer": "ipython3",
   "version": "3.8.8"
  }
 },
 "nbformat": 4,
 "nbformat_minor": 5
}
